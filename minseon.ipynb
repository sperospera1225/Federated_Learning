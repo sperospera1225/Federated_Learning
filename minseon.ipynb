{
 "cells": [
  {
   "cell_type": "code",
   "execution_count": 1,
   "metadata": {},
   "outputs": [],
   "source": [
    "import torch\n",
    "import torch.nn as nn\n",
    "import torch.nn.functional as F\n",
    "import torch.optim as optim\n",
    "from torch.utils.data import Dataset, DataLoader\n",
    "\n",
    "import torchvision\n",
    "import torchvision.datasets\n",
    "import torchvision.transforms as transforms\n",
    "\n",
    "import numpy as np\n",
    "import matplotlib.pyplot as plt\n",
    "plt.style.use('seaborn-white')"
   ]
  },
  {
   "cell_type": "code",
   "execution_count": 2,
   "metadata": {},
   "outputs": [],
   "source": [
    "transform = transforms.Compose([transforms.ToTensor(),\n",
    "                               transforms.Normalize((0.5,), (0.5,))])"
   ]
  },
  {
   "cell_type": "code",
   "execution_count": 3,
   "metadata": {},
   "outputs": [],
   "source": [
    "trainset = torchvision.datasets.MNIST(root='./data',\n",
    "                                    train=True,\n",
    "                                    download=True,\n",
    "                                    transform=transform)\n",
    "\n",
    "testset = torchvision.datasets.MNIST(root='./data',\n",
    "                                    train=False,\n",
    "                                    download=True,\n",
    "                                    transform=transform)"
   ]
  },
  {
   "cell_type": "code",
   "execution_count": 4,
   "metadata": {},
   "outputs": [],
   "source": [
    "train_loader = DataLoader(trainset,\n",
    "                         batch_size=128,\n",
    "                          shuffle=True,\n",
    "                          num_workers=2)\n",
    "\n",
    "test_loader = DataLoader(testset,\n",
    "                         batch_size=128,\n",
    "                          shuffle=False,\n",
    "                          num_workers=2)"
   ]
  },
  {
   "cell_type": "code",
   "execution_count": 5,
   "metadata": {},
   "outputs": [],
   "source": [
    "def imshow(img):\n",
    "    img = img / 2 + 0.5\n",
    "    npimg = img.numpy()\n",
    "    fig = plt.figure(figsize=(10,5))\n",
    "    plt.imshow(np.transpose(npimg, (1, 2, 0)))\n",
    "    plt.show()"
   ]
  },
  {
   "cell_type": "code",
   "execution_count": 6,
   "metadata": {},
   "outputs": [
    {
     "data": {
      "image/png": "[encoded data removed]",
      "text/plain": [
       "<Figure size 720x360 with 1 Axes>"
      ]
     },
     "metadata": {
      "needs_background": "light"
     },
     "output_type": "display_data"
    }
   ],
   "source": [
    "dataiter = iter(train_loader)\n",
    "images, labels = dataiter.next()\n",
    "imshow(torchvision.utils.make_grid(images[:4]))"
   ]
  },
  {
   "cell_type": "markdown",
   "metadata": {},
   "source": [
    "### 모델 구성 및 학습"
   ]
  },
  {
   "cell_type": "code",
   "execution_count": 7,
   "metadata": {},
   "outputs": [],
   "source": [
    "# 전체 모델 아키텍처\n",
    "\n",
    "class Net(nn.Module):\n",
    "    def __init__(self): # layer 정의\n",
    "        super(Net, self).__init__()\n",
    "\n",
    "        # input size = 28x28 \n",
    "        self.conv1 = nn.Conv2d(1, 6, 3)\n",
    "        self.conv2 = nn.Conv2d(6, 16, 3)\n",
    "        self.fc1 = nn.Linear(16*5*5, 120)\n",
    "        self.fc2 = nn.Linear(120, 84)\n",
    "        self.fc3 = nn.Linear(84, 10)\n",
    "        \n",
    "    def forward(self, x):\n",
    "        x = F.max_pool2d(F.relu(self.conv1(x)), (2, 2))\n",
    "        x = F.max_pool2d(F.relu(self.conv2(x)), 2)\n",
    "        x = x.view(-1, self.num_flat_features(x))\n",
    "        x = F.relu(self.fc1(x))\n",
    "        x = F.relu(self.fc2(x))\n",
    "        x = self.fc3(x)\n",
    "        return x\n",
    "    \n",
    "    def num_flat_features(self, x):\n",
    "        size = x.size()[1:]\n",
    "        num_features = 1\n",
    "        for s in size:\n",
    "            num_features *= s\n",
    "        return num_features\n",
    "    \n",
    "net = Net()"
   ]
  },
  {
   "cell_type": "code",
   "execution_count": 8,
   "metadata": {},
   "outputs": [],
   "source": [
    "criterion = nn.CrossEntropyLoss()\n",
    "optimizer = optim.SGD(net.parameters(), lr=0.001, momentum=0.9)"
   ]
  },
  {
   "cell_type": "code",
   "execution_count": 9,
   "metadata": {},
   "outputs": [
    {
     "name": "stdout",
     "output_type": "stream",
     "text": [
      "Epoch: 1, Iter: 100, Loss: 2.325159764049029\n",
      "Epoch: 1, Iter: 200, Loss: 2.311566543339485\n",
      "Epoch: 1, Iter: 300, Loss: 2.30487529330429\n",
      "Epoch: 1, Iter: 400, Loss: 2.2997531072238933\n",
      "Epoch: 2, Iter: 100, Loss: 2.282765364406085\n",
      "Epoch: 2, Iter: 200, Loss: 2.254887434705418\n",
      "Epoch: 2, Iter: 300, Loss: 2.222110464421403\n",
      "Epoch: 2, Iter: 400, Loss: 2.15686947928933\n"
     ]
    }
   ],
   "source": [
    "for epoch in range(2):\n",
    "    running_loss = 0.0\n",
    "    for i, data in enumerate(train_loader, 0):\n",
    "        inputs, labels = data\n",
    "        optimizer.zero_grad()\n",
    "        outputs = net(inputs)\n",
    "        loss = criterion(outputs, labels)\n",
    "        loss.backward()\n",
    "        optimizer.step()\n",
    "        \n",
    "        running_loss += loss.item()\n",
    "        if i % 100 == 99:\n",
    "            print(\"Epoch: {}, Iter: {}, Loss: {}\".format(epoch+1, i+1, running_loss/(100*(i/100))))"
   ]
  },
  {
   "cell_type": "code",
   "execution_count": 10,
   "metadata": {},
   "outputs": [
    {
     "name": "stdout",
     "output_type": "stream",
     "text": [
      "71.34\n"
     ]
    }
   ],
   "source": [
    "# pretrained 모델 정확도 계산\n",
    "correct = 0\n",
    "total = 0\n",
    "\n",
    "with torch.no_grad():\n",
    "    for data in test_loader:\n",
    "        im, la = data\n",
    "        outputs = net(im)\n",
    "        _, predicted = torch.max(outputs.data, 1)\n",
    "        total += la.size(0)\n",
    "        correct += (predicted == la).sum().item()\n",
    "    \n",
    "    print(100 * correct / total)"
   ]
  },
  {
   "cell_type": "markdown",
   "metadata": {},
   "source": [
    "### Pre-trained 모델 저장"
   ]
  },
  {
   "cell_type": "code",
   "execution_count": 11,
   "metadata": {},
   "outputs": [],
   "source": [
    "PATH = '/home/proj01/jungha/mnist_net.pth'\n",
    "torch.save(net.state_dict(), PATH)"
   ]
  },
  {
   "cell_type": "code",
   "execution_count": 12,
   "metadata": {},
   "outputs": [
    {
     "data": {
      "image/png": "[encoded data removed]",
      "text/plain": [
       "<Figure size 720x360 with 1 Axes>"
      ]
     },
     "metadata": {
      "needs_background": "light"
     },
     "output_type": "display_data"
    }
   ],
   "source": [
    "dataiter_test = iter(test_loader) # test data\n",
    "images_test, labels_test = dataiter_test.next()\n",
    "imshow(torchvision.utils.make_grid(images_test[:4]))"
   ]
  },
  {
   "cell_type": "code",
   "execution_count": 13,
   "metadata": {},
   "outputs": [],
   "source": [
    "input_image = images_test\n",
    "output_data = F.max_pool2d(F.relu(net.conv2(F.max_pool2d(F.relu(net.conv1(input_image)), (2, 2)))), 2)\n",
    "output = output_data.data"
   ]
  },
  {
   "cell_type": "code",
   "execution_count": 14,
   "metadata": {},
   "outputs": [
    {
     "data": {
      "text/plain": [
       "tensor([[[[2.1171e-01, 9.5223e-02, 8.1413e-02, 8.1413e-02, 8.1413e-02],\n",
       "          [8.2812e-02, 3.4671e-01, 3.1746e-01, 3.5943e-01, 5.7709e-01],\n",
       "          [8.1413e-02, 8.1413e-02, 2.8004e-01, 2.1762e-01, 6.5410e-01],\n",
       "          [8.1413e-02, 8.3272e-02, 3.7894e-01, 1.6244e-01, 6.5996e-01],\n",
       "          [8.1413e-02, 2.4989e-01, 0.0000e+00, 6.5936e-01, 4.4058e-01]],\n",
       "\n",
       "         [[1.0098e+00, 1.0185e+00, 1.0098e+00, 1.0098e+00, 1.0098e+00],\n",
       "          [5.1676e-01, 1.4432e+00, 1.1659e+00, 6.0154e-01, 2.3583e+00],\n",
       "          [1.1485e+00, 1.9082e+00, 2.0320e+00, 9.4328e-01, 3.2449e+00],\n",
       "          [1.0098e+00, 1.0098e+00, 8.6290e-01, 3.1739e+00, 3.5835e+00],\n",
       "          [1.0098e+00, 1.0098e+00, 9.5147e-01, 3.6073e+00, 1.5451e+00]],\n",
       "\n",
       "         [[5.5010e-01, 7.7764e-01, 0.0000e+00, 0.0000e+00, 0.0000e+00],\n",
       "          [1.7542e+00, 3.3823e+00, 2.8833e+00, 2.7391e+00, 2.8074e+00],\n",
       "          [2.5561e-01, 2.5258e-01, 1.3262e-01, 2.7349e+00, 2.1558e+00],\n",
       "          [0.0000e+00, 0.0000e+00, 1.8197e+00, 2.7232e+00, 6.4612e-01],\n",
       "          [0.0000e+00, 5.0481e-01, 2.8573e+00, 2.8650e+00, 0.0000e+00]],\n",
       "\n",
       "         ...,\n",
       "\n",
       "         [[8.3808e-03, 0.0000e+00, 2.1034e-04, 2.1034e-04, 2.1034e-04],\n",
       "          [1.3279e+00, 1.9794e+00, 1.8621e+00, 1.5874e+00, 1.2789e+00],\n",
       "          [2.5260e-01, 4.2211e-01, 5.1059e-01, 1.4070e+00, 1.3095e+00],\n",
       "          [2.1034e-04, 2.1034e-04, 5.5617e-01, 1.1905e+00, 5.1596e-01],\n",
       "          [2.1034e-04, 2.1034e-04, 1.3677e+00, 1.5034e+00, 2.1034e-04]],\n",
       "\n",
       "         [[8.0371e-01, 5.6017e-01, 5.5898e-01, 5.5898e-01, 5.5898e-01],\n",
       "          [8.1515e-01, 1.3242e+00, 1.1930e+00, 1.0134e+00, 8.0527e-01],\n",
       "          [9.2120e-01, 1.5548e+00, 1.6835e+00, 1.8775e+00, 1.6344e+00],\n",
       "          [5.5898e-01, 5.7172e-01, 8.5791e-01, 1.2686e+00, 1.8248e+00],\n",
       "          [5.5898e-01, 8.0114e-01, 7.9796e-01, 1.7790e+00, 9.6987e-01]],\n",
       "\n",
       "         [[1.2805e-01, 2.4999e-01, 1.3728e-01, 1.5530e-01, 1.0380e-01],\n",
       "          [2.9564e-01, 4.8730e-01, 1.6228e-01, 4.7242e-02, 1.6433e-01],\n",
       "          [2.3724e-01, 9.2959e-01, 1.0629e+00, 1.3344e+00, 7.6249e-01],\n",
       "          [1.3269e-04, 1.3269e-04, 3.9978e-01, 4.4368e-01, 9.1205e-01],\n",
       "          [1.3269e-04, 1.3269e-04, 6.1737e-01, 8.2163e-01, 4.0471e-01]]],\n",
       "\n",
       "\n",
       "        [[[3.2584e-01, 0.0000e+00, 4.0790e-01, 5.3313e-01, 2.3981e-01],\n",
       "          [8.1413e-02, 3.2050e-01, 6.0517e-01, 7.3197e-01, 3.6592e-01],\n",
       "          [9.2023e-02, 3.1144e-01, 7.8366e-02, 6.7020e-01, 1.3279e-01],\n",
       "          [2.9300e-01, 1.1464e-01, 6.2569e-01, 5.9470e-01, 9.6208e-02],\n",
       "          [1.0993e-01, 0.0000e+00, 6.4736e-01, 3.4871e-01, 1.6989e-01]],\n",
       "\n",
       "         [[1.0098e+00, 7.7878e-01, 1.5530e+00, 2.4446e+00, 1.4659e+00],\n",
       "          [1.0098e+00, 2.0935e+00, 2.0606e+00, 3.1755e+00, 1.5396e+00],\n",
       "          [1.0098e+00, 7.3318e-01, 3.1592e+00, 3.7603e+00, 1.0801e+00],\n",
       "          [1.0098e+00, 1.9507e-02, 3.8547e+00, 1.8054e+00, 1.0098e+00],\n",
       "          [1.0098e+00, 9.8990e-01, 2.3573e+00, 1.3070e+00, 1.1409e+00]],\n",
       "\n",
       "         [[6.5580e-01, 4.1743e+00, 3.9646e+00, 2.3431e+00, 3.8099e-01],\n",
       "          [8.7170e-01, 1.9099e+00, 2.8175e+00, 2.9428e+00, 2.1474e-01],\n",
       "          [6.4176e-03, 1.8265e+00, 3.4197e+00, 1.5650e+00, 0.0000e+00],\n",
       "          [4.4613e-01, 2.6532e+00, 3.0922e+00, 1.8248e-02, 3.6163e-01],\n",
       "          [9.3786e-01, 2.9524e+00, 3.7698e+00, 4.1208e+00, 3.7419e+00]],\n",
       "\n",
       "         ...,\n",
       "\n",
       "         [[2.1034e-04, 2.1404e+00, 2.4716e+00, 1.3944e+00, 1.8867e-01],\n",
       "          [7.2409e-01, 1.5763e+00, 1.1618e+00, 1.4803e+00, 1.2176e-01],\n",
       "          [2.1034e-04, 8.5577e-01, 1.8537e+00, 1.2006e+00, 2.1034e-04],\n",
       "          [2.1034e-04, 1.6081e+00, 1.4498e+00, 5.1116e-03, 3.1619e-03],\n",
       "          [6.6232e-01, 2.0495e+00, 2.0523e+00, 2.3714e+00, 2.5099e+00]],\n",
       "\n",
       "         [[7.5031e-01, 8.9278e-01, 1.2829e+00, 1.2475e+00, 6.9308e-01],\n",
       "          [6.5876e-01, 1.6788e+00, 2.4132e+00, 1.6796e+00, 8.6666e-01],\n",
       "          [6.2083e-01, 8.9619e-01, 1.2929e+00, 1.9048e+00, 5.8314e-01],\n",
       "          [7.2213e-01, 7.6287e-01, 1.8657e+00, 1.2161e+00, 5.6013e-01],\n",
       "          [7.1819e-01, 1.5948e+00, 2.3409e+00, 9.5936e-01, 9.2564e-01]],\n",
       "\n",
       "         [[1.4402e-01, 3.7888e-01, 4.0870e-01, 6.5673e-01, 1.3269e-04],\n",
       "          [4.0825e-01, 7.5411e-01, 1.3744e+00, 7.1602e-01, 2.1623e-01],\n",
       "          [1.3269e-04, 4.8107e-01, 5.1347e-01, 9.1190e-01, 8.5520e-02],\n",
       "          [1.3269e-04, 4.0932e-01, 8.9512e-01, 5.1326e-01, 3.0737e-01],\n",
       "          [3.4528e-01, 4.3066e-01, 1.1492e+00, 1.5861e-01, 4.2004e-01]]],\n",
       "\n",
       "\n",
       "        [[[8.1413e-02, 8.1413e-02, 3.1680e-01, 2.7670e-01, 3.8612e-01],\n",
       "          [8.1413e-02, 8.1413e-02, 2.1073e-01, 6.3351e-01, 5.5847e-01],\n",
       "          [8.1413e-02, 9.7829e-02, 3.2030e-01, 6.8048e-01, 1.3992e-01],\n",
       "          [8.1413e-02, 3.1844e-01, 0.0000e+00, 6.8392e-01, 8.1413e-02],\n",
       "          [8.1413e-02, 1.9150e-01, 4.0417e-01, 7.7003e-01, 8.1413e-02]],\n",
       "\n",
       "         [[1.0098e+00, 1.0098e+00, 1.0098e+00, 1.4713e+00, 2.0343e+00],\n",
       "          [1.0098e+00, 1.0098e+00, 8.9556e-01, 2.9822e+00, 1.9837e+00],\n",
       "          [1.0098e+00, 1.0098e+00, 1.9733e-01, 2.7763e+00, 1.0917e+00],\n",
       "          [1.0098e+00, 1.0098e+00, 1.6303e+00, 3.1479e+00, 1.0098e+00],\n",
       "          [1.0098e+00, 9.5752e-01, 3.1442e+00, 2.7331e+00, 1.0098e+00]],\n",
       "\n",
       "         [[0.0000e+00, 0.0000e+00, 3.3836e-01, 1.3916e+00, 4.1959e-01],\n",
       "          [0.0000e+00, 0.0000e+00, 1.0998e+00, 1.6730e+00, 3.2214e-01],\n",
       "          [0.0000e+00, 2.8405e-02, 2.1009e+00, 1.7862e+00, 0.0000e+00],\n",
       "          [0.0000e+00, 4.5477e-01, 1.7567e+00, 9.8098e-01, 0.0000e+00],\n",
       "          [0.0000e+00, 1.4739e+00, 2.3965e+00, 6.0061e-01, 0.0000e+00]],\n",
       "\n",
       "         ...,\n",
       "\n",
       "         [[2.1034e-04, 2.1034e-04, 2.1034e-04, 6.4499e-01, 2.3705e-01],\n",
       "          [2.1034e-04, 2.1034e-04, 5.4125e-01, 1.0132e+00, 1.7765e-01],\n",
       "          [2.1034e-04, 2.1034e-04, 1.1088e+00, 1.0549e+00, 2.1034e-04],\n",
       "          [2.1034e-04, 2.1034e-04, 1.1372e+00, 7.4268e-01, 2.1034e-04],\n",
       "          [2.1034e-04, 7.0347e-01, 1.4752e+00, 3.5306e-01, 2.1034e-04]],\n",
       "\n",
       "         [[5.5898e-01, 5.5898e-01, 7.2329e-01, 7.9335e-01, 9.2052e-01],\n",
       "          [5.5898e-01, 5.5898e-01, 8.3052e-01, 1.3537e+00, 1.2777e+00],\n",
       "          [5.5898e-01, 6.5515e-01, 8.7497e-01, 1.4937e+00, 5.8859e-01],\n",
       "          [5.5898e-01, 7.5129e-01, 7.7810e-01, 1.5406e+00, 5.5898e-01],\n",
       "          [5.5898e-01, 8.7517e-01, 1.3087e+00, 1.4145e+00, 5.5898e-01]],\n",
       "\n",
       "         [[1.3269e-04, 1.3269e-04, 1.3269e-04, 8.2491e-02, 1.7080e-01],\n",
       "          [1.3269e-04, 1.3269e-04, 1.9541e-01, 7.2510e-01, 4.3891e-01],\n",
       "          [1.3269e-04, 1.3269e-04, 2.6267e-01, 6.1105e-01, 9.7243e-02],\n",
       "          [1.3269e-04, 1.3269e-04, 2.9327e-01, 7.5874e-01, 1.3269e-04],\n",
       "          [1.3269e-04, 4.6915e-01, 4.2823e-01, 5.1141e-01, 1.3269e-04]]],\n",
       "\n",
       "\n",
       "        ...,\n",
       "\n",
       "\n",
       "        [[[8.1413e-02, 1.8015e-01, 2.6182e-01, 2.7162e-01, 8.3092e-02],\n",
       "          [1.1423e-01, 3.6513e-01, 4.6058e-01, 5.7313e-01, 3.4844e-01],\n",
       "          [2.5559e-01, 7.7427e-02, 5.7567e-01, 3.0781e-01, 5.5820e-01],\n",
       "          [1.4560e-01, 9.3097e-02, 3.6517e-01, 5.5606e-01, 6.2118e-01],\n",
       "          [8.1413e-02, 7.3442e-02, 3.5461e-01, 5.3526e-01, 6.4512e-01]],\n",
       "\n",
       "         [[1.0098e+00, 1.0098e+00, 4.4804e-01, 1.6888e+00, 1.0352e+00],\n",
       "          [1.0098e+00, 3.7101e-01, 2.0584e+00, 2.1497e+00, 1.7577e+00],\n",
       "          [1.0098e+00, 1.0641e+00, 2.9625e+00, 2.6333e+00, 2.0793e+00],\n",
       "          [1.0098e+00, 7.3777e-01, 1.5957e+00, 2.5292e+00, 2.1408e+00],\n",
       "          [1.0098e+00, 1.4119e+00, 2.2262e+00, 1.5132e+00, 2.1937e+00]],\n",
       "\n",
       "         [[0.0000e+00, 3.4378e-01, 2.5269e+00, 1.9582e+00, 0.0000e+00],\n",
       "          [5.6412e-02, 2.3126e+00, 2.7369e+00, 1.5065e+00, 4.2691e-01],\n",
       "          [5.4906e-01, 1.4952e+00, 2.2942e+00, 2.0654e+00, 3.8382e-01],\n",
       "          [7.2167e-01, 2.1295e+00, 4.2645e+00, 2.4386e+00, 3.9915e-01],\n",
       "          [1.5097e-01, 2.4931e-01, 5.3219e-01, 1.0870e+00, 1.0856e+00]],\n",
       "\n",
       "         ...,\n",
       "\n",
       "         [[2.1034e-04, 2.1034e-04, 3.3078e-01, 5.3206e-01, 2.1034e-04],\n",
       "          [2.1034e-04, 1.1509e+00, 1.8010e+00, 1.2077e+00, 1.9958e-01],\n",
       "          [2.1034e-04, 9.5978e-01, 4.8975e-01, 1.0711e+00, 1.1682e-01],\n",
       "          [3.8947e-01, 1.7290e+00, 1.8321e+00, 1.8537e+00, 1.8294e-01],\n",
       "          [1.8201e-01, 5.0800e-01, 4.7302e-01, 7.4253e-01, 1.9583e-01]],\n",
       "\n",
       "         [[5.5898e-01, 8.8732e-01, 9.2783e-01, 4.5165e-01, 5.5898e-01],\n",
       "          [6.9689e-01, 8.1952e-01, 1.6753e+00, 1.1766e+00, 7.6835e-01],\n",
       "          [7.4711e-01, 8.6765e-01, 1.7296e+00, 9.4163e-01, 1.0091e+00],\n",
       "          [7.0874e-01, 1.3441e+00, 1.4296e+00, 1.6766e+00, 9.7974e-01],\n",
       "          [5.9289e-01, 1.2471e+00, 1.6794e+00, 1.2478e+00, 1.2151e+00]],\n",
       "\n",
       "         [[1.3269e-04, 1.1724e-01, 1.2697e-01, 1.4848e-01, 3.0477e-02],\n",
       "          [1.3269e-04, 1.4975e-01, 9.7699e-01, 6.4687e-01, 2.4786e-02],\n",
       "          [1.3572e-02, 2.8196e-01, 9.6265e-01, 6.0800e-01, 2.9794e-01],\n",
       "          [2.5526e-01, 4.4180e-01, 8.2800e-01, 7.7227e-01, 4.4557e-01],\n",
       "          [2.0505e-01, 4.8170e-01, 1.0469e+00, 3.2338e-01, 6.0765e-01]]],\n",
       "\n",
       "\n",
       "        [[[3.0672e-01, 2.7583e-01, 5.5096e-01, 5.3300e-01, 8.1413e-02],\n",
       "          [3.1121e-01, 2.7439e-02, 3.8154e-01, 7.1452e-01, 3.9579e-01],\n",
       "          [0.0000e+00, 7.0455e-01, 3.4152e-01, 2.3992e-01, 4.1684e-01],\n",
       "          [1.1077e-01, 7.2586e-01, 8.2567e-02, 1.8910e-01, 1.5829e-01],\n",
       "          [0.0000e+00, 5.9939e-01, 1.9263e-01, 2.9514e-01, 0.0000e+00]],\n",
       "\n",
       "         [[1.0098e+00, 3.7761e-01, 1.4515e+00, 1.6420e+00, 1.0302e+00],\n",
       "          [4.0574e-01, 3.3862e+00, 2.6289e+00, 1.2752e+00, 1.4047e+00],\n",
       "          [1.3243e+00, 3.4054e+00, 1.4056e+00, 6.8671e-01, 2.0346e+00],\n",
       "          [1.6126e+00, 2.4853e+00, 1.0098e+00, 8.4494e-01, 1.5298e+00],\n",
       "          [1.0173e+00, 1.0223e+00, 1.1013e+00, 1.1964e+00, 2.9903e+00]],\n",
       "\n",
       "         [[3.4284e-01, 2.8391e+00, 4.2988e+00, 1.7126e+00, 0.0000e+00],\n",
       "          [2.5347e+00, 3.6221e+00, 2.5055e+00, 1.6546e+00, 1.3482e+00],\n",
       "          [2.6877e+00, 1.8523e+00, 3.6342e-01, 1.3504e+00, 1.6497e+00],\n",
       "          [1.0930e+00, 3.8103e-01, 0.0000e+00, 9.0778e-01, 2.1447e+00],\n",
       "          [1.0408e+00, 3.2219e+00, 4.0416e+00, 4.0752e+00, 3.8474e+00]],\n",
       "\n",
       "         ...,\n",
       "\n",
       "         [[2.1034e-04, 4.0871e-01, 1.1962e+00, 6.9700e-01, 2.1034e-04],\n",
       "          [1.2458e+00, 2.3331e+00, 2.2440e+00, 6.0748e-01, 2.9423e-01],\n",
       "          [1.6237e+00, 1.3592e+00, 3.9773e-01, 9.5420e-01, 1.0259e+00],\n",
       "          [7.2718e-01, 2.0847e-01, 2.1034e-04, 5.5684e-01, 1.1619e+00],\n",
       "          [7.6340e-01, 1.5968e+00, 1.9578e+00, 2.5458e+00, 2.4467e+00]],\n",
       "\n",
       "         [[7.7280e-01, 8.2726e-01, 1.0280e+00, 6.8000e-01, 5.5898e-01],\n",
       "          [8.4546e-01, 1.7631e+00, 2.0800e+00, 1.6743e+00, 7.0517e-01],\n",
       "          [7.4212e-01, 1.8401e+00, 8.5214e-01, 1.0828e+00, 1.2189e+00],\n",
       "          [1.0423e+00, 1.2514e+00, 5.5898e-01, 6.6857e-01, 1.0361e+00],\n",
       "          [1.2197e+00, 1.7756e+00, 9.4776e-01, 9.0912e-01, 1.5620e+00]],\n",
       "\n",
       "         [[3.9379e-02, 3.2744e-01, 3.0936e-01, 1.4718e-01, 8.0611e-03],\n",
       "          [4.7614e-01, 6.5811e-01, 1.0587e+00, 5.2534e-01, 2.2084e-01],\n",
       "          [3.9048e-01, 1.0702e+00, 3.5776e-01, 3.4056e-01, 6.2574e-01],\n",
       "          [1.7627e-01, 7.0717e-01, 1.3269e-04, 3.4918e-01, 5.5413e-01],\n",
       "          [2.8534e-01, 7.9554e-01, 2.6384e-01, 3.6963e-01, 4.0699e-01]]],\n",
       "\n",
       "\n",
       "        [[[8.3781e-02, 1.9833e-01, 2.0290e-01, 2.1813e-01, 1.1170e-01],\n",
       "          [3.0393e-01, 1.7163e-01, 6.8194e-02, 1.1764e-01, 2.3356e-01],\n",
       "          [2.1532e-01, 0.0000e+00, 6.9552e-01, 3.0265e-01, 3.8464e-01],\n",
       "          [8.1413e-02, 0.0000e+00, 5.3149e-01, 5.0733e-01, 3.0542e-01],\n",
       "          [1.8302e-01, 1.5968e-01, 2.0936e-01, 5.3355e-01, 6.9372e-01]],\n",
       "\n",
       "         [[1.0098e+00, 1.0098e+00, 1.0074e+00, 5.7039e-01, 1.7216e+00],\n",
       "          [9.9949e-01, 0.0000e+00, 1.4693e+00, 2.7698e+00, 2.8788e+00],\n",
       "          [1.0109e+00, 1.0238e+00, 3.0172e+00, 2.7137e+00, 1.5843e+00],\n",
       "          [1.0098e+00, 1.1067e+00, 1.2508e+00, 1.8305e+00, 1.7640e+00],\n",
       "          [1.0098e+00, 4.7296e-01, 3.7768e-01, 3.3980e+00, 2.3387e+00]],\n",
       "\n",
       "         [[0.0000e+00, 0.0000e+00, 6.6983e-01, 2.8302e+00, 4.1194e+00],\n",
       "          [6.7169e-01, 3.5409e+00, 4.4328e+00, 4.7274e+00, 3.3704e+00],\n",
       "          [9.7564e-01, 2.8920e+00, 2.4180e+00, 2.7854e-01, 0.0000e+00],\n",
       "          [5.3207e-01, 1.5192e+00, 2.9007e+00, 1.7658e+00, 3.5937e-01],\n",
       "          [3.4259e-01, 1.9736e+00, 3.6796e+00, 3.7993e+00, 6.7156e-01]],\n",
       "\n",
       "         ...,\n",
       "\n",
       "         [[2.8010e-03, 2.1034e-04, 4.2075e-03, 1.7239e-01, 1.5962e+00],\n",
       "          [0.0000e+00, 1.3825e+00, 2.6732e+00, 2.4531e+00, 2.6016e+00],\n",
       "          [5.6841e-01, 1.9211e+00, 1.5541e+00, 2.2664e-01, 2.1034e-04],\n",
       "          [5.0971e-01, 1.5987e+00, 1.2171e+00, 1.1312e+00, 1.3955e-01],\n",
       "          [2.1034e-04, 0.0000e+00, 1.1389e+00, 1.8004e+00, 2.8845e-01]],\n",
       "\n",
       "         [[5.5999e-01, 5.7108e-01, 8.0178e-01, 7.9740e-01, 7.8591e-01],\n",
       "          [7.4366e-01, 8.3973e-01, 7.9465e-01, 1.9019e+00, 2.0503e+00],\n",
       "          [6.9243e-01, 2.0135e+00, 2.3095e+00, 1.9332e+00, 1.0389e+00],\n",
       "          [6.2164e-01, 1.0732e+00, 1.3801e+00, 1.2427e+00, 6.1014e-01],\n",
       "          [7.5541e-01, 1.1357e+00, 1.1974e+00, 1.2786e+00, 1.3317e+00]],\n",
       "\n",
       "         [[1.3269e-04, 3.1695e-02, 3.5636e-01, 2.8922e-01, 3.6075e-01],\n",
       "          [5.6049e-02, 2.9154e-01, 3.9691e-01, 1.0285e+00, 1.1592e+00],\n",
       "          [3.1525e-01, 7.8654e-01, 1.3447e+00, 1.0041e+00, 4.3543e-01],\n",
       "          [3.6316e-01, 6.2967e-01, 8.2196e-01, 5.8311e-01, 1.8158e-02],\n",
       "          [1.1683e-02, 2.0243e-01, 8.8433e-01, 6.0915e-01, 4.1583e-01]]]],\n",
       "       grad_fn=<MaxPool2DWithIndicesBackward0>)"
      ]
     },
     "execution_count": 14,
     "metadata": {},
     "output_type": "execute_result"
    }
   ],
   "source": [
    "output_data"
   ]
  },
  {
   "cell_type": "code",
   "execution_count": 15,
   "metadata": {},
   "outputs": [
    {
     "data": {
      "text/plain": [
       "(128, 16, 5, 5)"
      ]
     },
     "execution_count": 15,
     "metadata": {},
     "output_type": "execute_result"
    }
   ],
   "source": [
    "output_arr = output.numpy()\n",
    "output_arr.shape\n",
    "\n",
    "# batch, filter, 5*5 "
   ]
  },
  {
   "cell_type": "code",
   "execution_count": 16,
   "metadata": {},
   "outputs": [
    {
     "name": "stdout",
     "output_type": "stream",
     "text": [
      "torch.Size([28, 28])\n"
     ]
    }
   ],
   "source": [
    "torch_image = torch.squeeze(images[0])\n",
    "print(torch_image.shape)\n",
    "\n",
    "image_ = torch_image.numpy()"
   ]
  },
  {
   "cell_type": "code",
   "execution_count": 17,
   "metadata": {},
   "outputs": [
    {
     "data": {
      "image/png": "[encoded data removed]",
      "text/plain": [
       "<Figure size 1080x2160 with 2 Axes>"
      ]
     },
     "metadata": {
      "needs_background": "light"
     },
     "output_type": "display_data"
    }
   ],
   "source": [
    "plt.figure(figsize=(15,30))\n",
    "plt.subplot(131)\n",
    "plt.title(\"Input\")\n",
    "plt.imshow(image_, 'gray')\n",
    "plt.subplot(132)\n",
    "plt.title(\"Output\")\n",
    "plt.imshow(output_arr[0,0,:,:], 'gray')\n",
    "plt.show()"
   ]
  },
  {
   "cell_type": "markdown",
   "metadata": {},
   "source": [
    "### 저장한 extracted feature output값 불러오기"
   ]
  },
  {
   "cell_type": "code",
   "execution_count": 18,
   "metadata": {},
   "outputs": [],
   "source": [
    "np.save('./frozen_output/test.npy', output_data.data)\n",
    "frozen_output = np.load('./frozen_output/test.npy')\n",
    "mid_output = torch.Tensor(frozen_output)"
   ]
  },
  {
   "cell_type": "markdown",
   "metadata": {},
   "source": [
    "### fully connected layer 모델 선언 및 weight load"
   ]
  },
  {
   "cell_type": "code",
   "execution_count": 19,
   "metadata": {},
   "outputs": [],
   "source": [
    "class TF_NET(nn.Module):\n",
    "    def __init__(self):\n",
    "        super(TF_NET, self).__init__()\n",
    "         \n",
    "        self.fc1 = nn.Linear(16*5*5, 120)\n",
    "        self.fc2 = nn.Linear(120, 84)\n",
    "        self.fc3 = nn.Linear(84, 10)\n",
    "        \n",
    "    def forward(self, x):\n",
    "        x = x.view(-1, self.num_flat_features(x))\n",
    "        x = F.relu(self.fc1(x))\n",
    "        x = F.relu(self.fc2(x))\n",
    "        x = self.fc3(x)\n",
    "        return x\n",
    "    \n",
    "    def num_flat_features(self, x):\n",
    "        size = x.size()[1:]\n",
    "        num_features = 1\n",
    "        for s in size:\n",
    "            num_features *= s\n",
    "        return num_features\n",
    "    \n",
    "trainable_model = TF_NET()"
   ]
  },
  {
   "cell_type": "code",
   "execution_count": 20,
   "metadata": {},
   "outputs": [],
   "source": [
    "state_dict = torch.load(PATH)\n",
    "\n",
    "with torch.no_grad():\n",
    "    trainable_model.fc1.weight.copy_(state_dict['fc1.weight'])\n",
    "    trainable_model.fc1.bias.copy_(state_dict['fc1.bias'])\n",
    "    trainable_model.fc2.weight.copy_(state_dict['fc2.weight'])\n",
    "    trainable_model.fc2.bias.copy_(state_dict['fc2.bias'])\n",
    "    trainable_model.fc3.weight.copy_(state_dict['fc3.weight'])\n",
    "    trainable_model.fc3.bias.copy_(state_dict['fc3.bias'])"
   ]
  },
  {
   "cell_type": "markdown",
   "metadata": {},
   "source": [
    "### 71.34%의 동일한 분류 정확도 산출"
   ]
  },
  {
   "cell_type": "code",
   "execution_count": 21,
   "metadata": {},
   "outputs": [
    {
     "name": "stdout",
     "output_type": "stream",
     "text": [
      "71.34\n"
     ]
    }
   ],
   "source": [
    "# 중간 결과 값 받아와서 trainable model에 넣어서 정확도 계산.\n",
    "# 주석처리 한 부분은 파일로 따로 저장하고, 다시 load해서 할려고 했는데 shape에 문제가 있는거같아서 일단 둠 \n",
    "correct = 0\n",
    "total = 0\n",
    "\n",
    "with torch.no_grad():\n",
    "    for epoch in range(2):\n",
    "        running_loss = 0.0\n",
    "        for i, data in enumerate(test_loader, 0):\n",
    "            images_test, labels_test = data\n",
    "            output_data = F.max_pool2d(F.relu(net.conv2(F.max_pool2d(F.relu(net.conv1(images_test)), (2, 2)))), 2)\n",
    "            outputs = trainable_model(output_data)\n",
    "            _, predicted = torch.max(outputs.data, 1)\n",
    "            total += labels_test.size(0)\n",
    "            correct += (predicted == labels_test).sum().item()\n",
    "            \n",
    "    print(100 * correct / total)"
   ]
  }
 ],
 "metadata": {
  "kernelspec": {
   "display_name": "Python 3",
   "language": "python",
   "name": "python3"
  },
  "language_info": {
   "codemirror_mode": {
    "name": "ipython",
    "version": 3
   },
   "file_extension": ".py",
   "mimetype": "text/x-python",
   "name": "python",
   "nbconvert_exporter": "python",
   "pygments_lexer": "ipython3",
   "version": "3.7.3"
  }
 },
 "nbformat": 4,
 "nbformat_minor": 2
}
